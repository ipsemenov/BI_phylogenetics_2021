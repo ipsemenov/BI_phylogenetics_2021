{
 "cells": [
  {
   "cell_type": "markdown",
   "metadata": {},
   "source": [
    "# <center>Working with NCBI</center>"
   ]
  },
  {
   "cell_type": "markdown",
   "metadata": {},
   "source": [
    "## Libraries"
   ]
  },
  {
   "cell_type": "code",
   "execution_count": 1,
   "metadata": {
    "ExecuteTime": {
     "end_time": "2022-03-31T08:31:58.188038Z",
     "start_time": "2022-03-31T08:31:58.182460Z"
    }
   },
   "outputs": [],
   "source": [
    "from Bio import Entrez\n",
    "Entrez.email = \"isemenov.bioinfo1998@gmail.com\""
   ]
  },
  {
   "cell_type": "markdown",
   "metadata": {
    "ExecuteTime": {
     "end_time": "2022-02-27T16:34:36.815465Z",
     "start_time": "2022-02-27T16:34:36.780429Z"
    }
   },
   "source": [
    "## Some basic commands"
   ]
  },
  {
   "cell_type": "markdown",
   "metadata": {},
   "source": [
    "`esearch`: finds an article in NCBI by our request"
   ]
  },
  {
   "cell_type": "markdown",
   "metadata": {},
   "source": [
    "### Find an article in NCBI connected with cytomegalovirus"
   ]
  },
  {
   "cell_type": "code",
   "execution_count": 2,
   "metadata": {
    "ExecuteTime": {
     "end_time": "2022-03-31T08:31:59.290706Z",
     "start_time": "2022-03-31T08:31:58.195872Z"
    }
   },
   "outputs": [
    {
     "name": "stdout",
     "output_type": "stream",
     "text": [
      "{'Count': '53107', 'RetMax': '20', 'RetStart': '0', 'IdList': ['35354065', '35353226', '35352632', '35352508', '35351972', '35349757', '35348580', '35348198', '35347236', '35346077', '35345706', '35344659', '35344424', '35344176', '35343807', '35343785', '35343771', '35343620', '35342821', '35342158'], 'TranslationSet': [{'From': 'cytomegalovirus', 'To': '\"cytomegalovirus\"[MeSH Terms] OR \"cytomegalovirus\"[All Fields]'}], 'TranslationStack': [{'Term': '\"cytomegalovirus\"[MeSH Terms]', 'Field': 'MeSH Terms', 'Count': '22284', 'Explode': 'Y'}, {'Term': '\"cytomegalovirus\"[All Fields]', 'Field': 'All Fields', 'Count': '53110', 'Explode': 'N'}, 'OR', 'GROUP'], 'QueryTranslation': '\"cytomegalovirus\"[MeSH Terms] OR \"cytomegalovirus\"[All Fields]'}\n"
     ]
    }
   ],
   "source": [
    "handle = Entrez.esearch(db='pubmed', term='cytomegalovirus')\n",
    "record = Entrez.read(handle)\n",
    "print(record)"
   ]
  },
  {
   "cell_type": "markdown",
   "metadata": {
    "ExecuteTime": {
     "end_time": "2022-02-27T20:16:36.877516Z",
     "start_time": "2022-02-27T20:16:36.861251Z"
    }
   },
   "source": [
    "By default `RetMax = 20` => we retrieve only the first 20 articles from 52959 articles found"
   ]
  },
  {
   "cell_type": "markdown",
   "metadata": {
    "ExecuteTime": {
     "end_time": "2022-02-27T16:56:28.664707Z",
     "start_time": "2022-02-27T16:56:28.655257Z"
    }
   },
   "source": [
    "Pubmed IDs with articles on cytomegalovirus:"
   ]
  },
  {
   "cell_type": "code",
   "execution_count": 3,
   "metadata": {
    "ExecuteTime": {
     "end_time": "2022-03-31T08:31:59.300286Z",
     "start_time": "2022-03-31T08:31:59.293749Z"
    }
   },
   "outputs": [
    {
     "name": "stdout",
     "output_type": "stream",
     "text": [
      "35354065\n",
      "35353226\n",
      "35352632\n",
      "35352508\n",
      "35351972\n",
      "35349757\n",
      "35348580\n",
      "35348198\n",
      "35347236\n",
      "35346077\n",
      "35345706\n",
      "35344659\n",
      "35344424\n",
      "35344176\n",
      "35343807\n",
      "35343785\n",
      "35343771\n",
      "35343620\n",
      "35342821\n",
      "35342158\n"
     ]
    }
   ],
   "source": [
    "print(*record['IdList'], sep='\\n')"
   ]
  },
  {
   "cell_type": "markdown",
   "metadata": {},
   "source": [
    "### Retrieve abstracts from articles found"
   ]
  },
  {
   "cell_type": "markdown",
   "metadata": {},
   "source": [
    "`efetch`: returns abstracts of articles in a simple text format"
   ]
  },
  {
   "cell_type": "markdown",
   "metadata": {},
   "source": [
    "Here we return abstracts from first two articles"
   ]
  },
  {
   "cell_type": "code",
   "execution_count": 4,
   "metadata": {
    "ExecuteTime": {
     "end_time": "2022-03-31T08:32:00.390596Z",
     "start_time": "2022-03-31T08:31:59.303775Z"
    }
   },
   "outputs": [
    {
     "name": "stdout",
     "output_type": "stream",
     "text": [
      "\n",
      "1. Antiviral Res. 2022 Mar 27:105299. doi: 10.1016/j.antiviral.2022.105299. [Epub\n",
      "ahead of print]\n",
      "\n",
      "Reliable quantification of Cytomegalovirus DNAemia in Letermovir treated\n",
      "patients.\n",
      "\n",
      "Weinberger S(1), Steininger C(2).\n",
      "\n",
      "Author information: \n",
      "(1)Division of Infectious Diseases and Tropical Medicine, Department of Medicine \n",
      "I, Medical University of Vienna, Vienna, Austria.\n",
      "(2)Division of Infectious Diseases and Tropical Medicine, Department of Medicine \n",
      "I, Medical University of Vienna, Vienna, Austria. Electronic address:\n",
      "christoph.steininger@meduniwien.ac.at.\n",
      "\n",
      "Polymerase chain reaction (PCR) based methods are a fast and sensitive approach\n",
      "to detect and monitor viral load in Cytomegalovirus (CMV) patients. Letermovir\n",
      "(LMV) acts at a late stage during the CMV replication cycle and does not inhibit \n",
      "CMV DNA replication per se. Therefore, quantitative nucleic acid amplification\n",
      "testing might lead to the overestimation of viral load in patients treated with\n",
      "LMV and underestimate treatment success. To study this discrepancy, we treated\n",
      "infected cells with LMV or Ganciclovir (GCV) and compared viral progeny DNA\n",
      "levels. Prior to nucleic acid extraction and qPCR measurements we pretreated cell\n",
      "lysates and cell culture supernatants from infected cells with DNase I. This step\n",
      "assumes the degradation of DNA which is not protected from a viral capsid. LMV\n",
      "treatment did not reduce genomic copies (GC) in samples from whole cell lysates\n",
      "compared to samples treated with GCV. DNase treatment prior to DNA extraction,\n",
      "decreased GC in the LMV treated group to comparable levels as seen in the GCV\n",
      "group. In cell culture supernatants, LMV or GCV treatment led to an equivalent\n",
      "reduction of CMV GC. In this case, DNase treatment exerted a negligible effect on\n",
      "both groups. We conclude that the accumulation of concatemeric DNA within cells\n",
      "seems to be a confounding variable when monitoring LMV efficacy via qPCR.\n",
      "However, qPCR shows to be a reliable method to evaluate antiviral efficacy of LMV\n",
      "in cell free specimens. These results have strong clinical implications for the\n",
      "monitoring of CMV therapy during LMV treatment.\n",
      "\n",
      "Copyright © 2022. Published by Elsevier B.V.\n",
      "\n",
      "DOI: 10.1016/j.antiviral.2022.105299 \n",
      "PMID: 35354065 \n",
      "\n",
      "Conflict of interest statement: Declaration of competing interest The authors\n",
      "declare that they have no known competing financial interests or personal\n",
      "relationships that could have appeared to influence the work reported in this\n",
      "paper.\n",
      "\n",
      "\n",
      "2. Hum Genet. 2022 Mar 30. doi: 10.1007/s00439-021-02333-9. [Epub ahead of print]\n",
      "\n",
      "Genetic testing for pediatric hearing loss: no time to waste.\n",
      "\n",
      "Kenna MA(1).\n",
      "\n",
      "Author information: \n",
      "(1)Sarah Fuller Chair for Hearing Loss and Hearing Restoration, Department of\n",
      "Otolaryngology and Communication Enhancement, Boston Children's Hospital, Harvard\n",
      "Medical School, 300 Longwood Ave. BCH 3129, Boston, MA, 02115, USA.\n",
      "Margaret.Kenna@childrens.harvard.edu.\n",
      "\n",
      "Since the discovery of the first human deafness gene a quarter of a century ago, \n",
      "our approach to clinical evaluation of children with hearing loss has changed\n",
      "dramatically. What was once a low-yield scattershot approach has changed to a\n",
      "clearly definable pathway involving genetic testing, imaging, and congenital\n",
      "cytomegalovirus testing. There still however is a great deal of work to be done\n",
      "to expand the correct use of this testing, particularly genetic testing.\n",
      "\n",
      "© 2022. The Author(s), under exclusive licence to Springer-Verlag GmbH Germany,\n",
      "part of Springer Nature.\n",
      "\n",
      "DOI: 10.1007/s00439-021-02333-9 \n",
      "PMID: 35353226 \n",
      "\n",
      "\n"
     ]
    }
   ],
   "source": [
    "mshandle = Entrez.efetch(db=\"pubmed\", id=record[\"IdList\"][0:2], rettype=\"abstract\", retmode=\"text\")\n",
    "print(mshandle.read())"
   ]
  },
  {
   "cell_type": "markdown",
   "metadata": {},
   "source": [
    "### Retrieve nucleotide sequences for rhodopsin from Homo Sapiens"
   ]
  },
  {
   "cell_type": "markdown",
   "metadata": {},
   "source": [
    "`esearch` returns results in XML format"
   ]
  },
  {
   "cell_type": "code",
   "execution_count": 5,
   "metadata": {
    "ExecuteTime": {
     "end_time": "2022-03-31T08:32:02.048854Z",
     "start_time": "2022-03-31T08:32:00.393379Z"
    }
   },
   "outputs": [
    {
     "name": "stdout",
     "output_type": "stream",
     "text": [
      "['1675034719', '1653962141', '1523964325', '1520687782', '1519473570', '1519315165', '1519313919', '1519244045', '1062594141', '1236508655', '219281886', '1783531726', '1677539460', '1677530135', '2075919630', '2068205929', '1519312296', '1918095546', '1654220746', '1654220743']\n"
     ]
    },
    {
     "data": {
      "text/plain": [
       "<_io.TextIOWrapper encoding='UTF-8'>"
      ]
     },
     "execution_count": 5,
     "metadata": {},
     "output_type": "execute_result"
    }
   ],
   "source": [
    "handle = Entrez.esearch(db = \"nucleotide\", term = \"rhodopsin AND Homo sapiens[orgn]\")\n",
    "record = Entrez.read(handle)\n",
    "print(record['IdList'])\n",
    "Entrez.efetch(db = \"nucleotide\", id = record[\"IdList\"])"
   ]
  },
  {
   "cell_type": "markdown",
   "metadata": {},
   "source": [
    "We point `[org]` after species name to specify that we want to search for requested protein directly in *H.sapiens* (and not in other organisms connected with it, e.g microorganims inhabiting it)."
   ]
  },
  {
   "cell_type": "markdown",
   "metadata": {},
   "source": [
    "### Find ID of an organism (Mus Musculus) in database"
   ]
  },
  {
   "cell_type": "code",
   "execution_count": 6,
   "metadata": {
    "ExecuteTime": {
     "end_time": "2022-03-31T08:32:02.668574Z",
     "start_time": "2022-03-31T08:32:02.054910Z"
    }
   },
   "outputs": [
    {
     "name": "stdout",
     "output_type": "stream",
     "text": [
      "{'Count': '1', 'RetMax': '1', 'RetStart': '0', 'IdList': ['10090'], 'TranslationSet': [], 'TranslationStack': [{'Term': 'mus musculus[All Names]', 'Field': 'All Names', 'Count': '1', 'Explode': 'N'}, 'GROUP'], 'QueryTranslation': 'mus musculus[All Names]'}\n"
     ]
    }
   ],
   "source": [
    "handle = Entrez.esearch(db = \"taxonomy\", term = \"Mus musculus\")\n",
    "record = Entrez.read(handle)\n",
    "print(record)"
   ]
  },
  {
   "cell_type": "code",
   "execution_count": 7,
   "metadata": {
    "ExecuteTime": {
     "end_time": "2022-03-31T08:32:02.685284Z",
     "start_time": "2022-03-31T08:32:02.674146Z"
    }
   },
   "outputs": [
    {
     "name": "stdout",
     "output_type": "stream",
     "text": [
      "Mus Musculus ID: 10090\n"
     ]
    }
   ],
   "source": [
    "print('Mus Musculus ID:', record['IdList'][0])"
   ]
  },
  {
   "cell_type": "markdown",
   "metadata": {},
   "source": [
    "### Retrieve nucleotide sequences for rhodopsin from H. Sapiens and return results in a table (not XML)"
   ]
  },
  {
   "cell_type": "markdown",
   "metadata": {},
   "source": [
    "`esearch`+`esummary`: makes a request in a database by gene name and then returns a table with UID (in XML it corresponds to Id), accession number (in XML it corresponds to Caption) and sequence length (Slen)."
   ]
  },
  {
   "cell_type": "markdown",
   "metadata": {},
   "source": [
    "We retrieve here all PMIDs and then iterate through them to obtain some basic description"
   ]
  },
  {
   "cell_type": "code",
   "execution_count": 8,
   "metadata": {
    "ExecuteTime": {
     "end_time": "2022-03-31T08:32:19.438218Z",
     "start_time": "2022-03-31T08:32:02.690402Z"
    }
   },
   "outputs": [],
   "source": [
    "handle = Entrez.esearch(db=\"protein\", term=\"rhodopsin AND Homo sapiens[orgn]\")\n",
    "record = Entrez.read(handle)\n",
    "with open(\"results/id_capt_len_py.txt\", \"w\") as ouf:\n",
    "    for rec in record[\"IdList\"]:\n",
    "        temphandle = Entrez.read(Entrez.esummary(db=\"protein\", id=rec, retmode=\"text\"))\n",
    "        ouf.write(f\"{temphandle[0]['Id']}\\t{temphandle[0]['Caption']}\\t{temphandle[0]['Length']}\\n\")"
   ]
  },
  {
   "cell_type": "code",
   "execution_count": 9,
   "metadata": {
    "ExecuteTime": {
     "end_time": "2022-03-31T08:32:19.449850Z",
     "start_time": "2022-03-31T08:32:19.443707Z"
    }
   },
   "outputs": [
    {
     "data": {
      "text/plain": [
       "[{'Item': [], 'Id': '166362740', 'Caption': 'NP_001983', 'Title': 'proteinase-activated receptor 1 isoform 1 precursor [Homo sapiens]', 'Extra': 'gi|166362740|ref|NP_001983.2|[166362740]', 'Gi': IntegerElement(166362740, attributes={}), 'CreateDate': '1999/03/19', 'UpdateDate': '2022/03/12', 'Flags': IntegerElement(512, attributes={}), 'TaxId': IntegerElement(9606, attributes={}), 'Length': IntegerElement(425, attributes={}), 'Status': 'live', 'ReplacedBy': '', 'Comment': '  ', 'AccessionVersion': 'NP_001983.2'}]"
      ]
     },
     "execution_count": 9,
     "metadata": {},
     "output_type": "execute_result"
    }
   ],
   "source": [
    "temphandle"
   ]
  },
  {
   "cell_type": "code",
   "execution_count": 10,
   "metadata": {
    "ExecuteTime": {
     "end_time": "2022-03-31T08:32:19.574718Z",
     "start_time": "2022-03-31T08:32:19.453798Z"
    }
   },
   "outputs": [
    {
     "name": "stdout",
     "output_type": "stream",
     "text": [
      "523704349\tNP_001265723\t375\r\n",
      "1043261393\tNP_001316355\t74\r\n",
      "1002819403\tNP_001307687\t439\r\n",
      "539848521\tNP_064445\t364\r\n",
      "523704347\tNP_005963\t375\r\n",
      "222080049\tNP_000858\t481\r\n",
      "88758606\tNP_001034674\t297\r\n",
      "52317263\tNP_001004723\t307\r\n",
      "11386179\tNP_068774\t74\r\n",
      "485837026\tNP_057726\t3674\r\n",
      "282403488\tNP_997253\t609\r\n",
      "153945858\tNP_002089\t200\r\n",
      "116008178\tNP_000532\t405\r\n",
      "110556629\tNP_775904\t493\r\n",
      "38505194\tNP_000946\t402\r\n",
      "31083344\tNP_064707\t362\r\n",
      "23312386\tNP_006230\t753\r\n",
      "7662494\tNP_054798\t416\r\n",
      "1062594142\tNP_001318005\t374\r\n",
      "166362740\tNP_001983\t425\r\n"
     ]
    }
   ],
   "source": [
    "! cat results/id_capt_len_py.txt"
   ]
  },
  {
   "cell_type": "markdown",
   "metadata": {},
   "source": [
    "### Retrieve nucleotide sequences in fasta format for requested gene"
   ]
  },
  {
   "cell_type": "markdown",
   "metadata": {},
   "source": [
    "Return sequences in a text format"
   ]
  },
  {
   "cell_type": "code",
   "execution_count": 11,
   "metadata": {
    "ExecuteTime": {
     "end_time": "2022-03-31T08:32:21.608809Z",
     "start_time": "2022-03-31T08:32:19.576419Z"
    }
   },
   "outputs": [
    {
     "name": "stdout",
     "output_type": "stream",
     "text": [
      ">NP_001265723.1 neuropeptide Y receptor type 4 [Homo sapiens]\n",
      "MNTSHLLALLLPKSPQGENRSKPLGTPYNFSEHCQDSVDVMVFIVTSYSIETVVGVLGNLCLMCVTVRQK\n",
      "EKANVTNLLIANLAFSDFLMCLLCQPLTAVYTIMDYWIFGETLCKMSAFIQCMSVTVSILSLVLVALERH\n",
      "QLIINPTGWKPSISQAYLGIVLIWVIACVLSLPFLANSILENVFHKNHSKALEFLADKVVCTESWPLAHH\n",
      "RTIYTTFLLLFQYCLPLGFILVCYARIYRCLQRQGRVFHKGTYSLRAGHMKQVNVVLVVMVVAFAVLWLP\n",
      "LHVFNSLEDWHHEAIPICHGNLIFLVCHLLAMASTCVNPFIYGFLNTNFKKEIKALVLTCQQSAPLEESE\n",
      "HLPLSTVHTEVSKGSLRLSGRSNPI\n",
      "\n",
      ">NP_001316355.1 guanine nucleotide-binding protein G(T) subunit gamma-T1 precursor [Homo sapiens]\n",
      "MPVINIEDLTEKDKLKMEVDQLKKEVTLERMLVSKCCEEVRDYVEERSGEDPLVKGIPEDKNPFKELKGG\n",
      "CVIS\n",
      "\n",
      ">NP_001307687.1 5-hydroxytryptamine receptor 2B isoform 2 [Homo sapiens]\n",
      "MKQIVEEQGNKLHWAALLILMVIIPTIGGNTLVILAVSLEKKLQYATNYFLMSLAVADLLVGLFVMPIAL\n",
      "LTIMFEAMWPLPLVLCPAWLFLDVLFSTASIMHLCAISVDRYIAIKKPIQANQYNSRATAFIKITVVWLI\n",
      "SIGIAIPVPIKGIETDVDNPNNITCVLTKERFGDFMLFGSLAAFFTPLAIMIVTYFLTIHALQKKAYLVK\n",
      "NKPPQRLTWLTVSTVFQRDETPCSSPEKVAMLDGSRKDKALPNSGDETLMRRTSTIGKKSVQTISNEQRA\n",
      "SKVLGIVFFLFLLMWCPFFITNITLVLCDSCNQTTLQMLLEIFVWIGYVSSGVNPLVYTLFNKTFRDAFG\n",
      "RYITCNYRATKSVKTLRKRSSKIYFRNPMAENSKFFKKHGIRNGINPAMYQSPMRLRSSTIQSSSIILLD\n",
      "TLLLTENEGDKTEEQVSYV\n",
      "\n",
      ">NP_064445.2 long-wave-sensitive opsin 1 [Homo sapiens]\n",
      "MAQQWSLQRLAGRHPQDSYEDSTQSSIFTYTNSNSTRGPFEGPNYHIAPRWVYHLTSVWMIFVVTASVFT\n",
      "NGLVLAATMKFKKLRHPLNWILVNLAVADLAETVIASTISIVNQVSGYFVLGHPMCVLEGYTVSLCGITG\n",
      "LWSLAIISWERWMVVCKPFGNVRFDAKLAIVGIAFSWIWAAVWTAPPIFGWSRYWPHGLKTSCGPDVFSG\n",
      "SSYPGVQSYMIVLMVTCCIIPLAIIMLCYLQVWLAIRAVAKQQKESESTQKAEKEVTRMVVVMIFAYCVC\n",
      "WGPYTFFACFAAANPGYAFHPLMAALPAYFAKSATIYNPVIYVFMNRQFRNCILQLFGKKVDDGSELSSA\n",
      "SKTEVSSVSSVSPA\n",
      "\n",
      ">NP_005963.4 neuropeptide Y receptor type 4 [Homo sapiens]\n",
      "MNTSHLLALLLPKSPQGENRSKPLGTPYNFSEHCQDSVDVMVFIVTSYSIETVVGVLGNLCLMCVTVRQK\n",
      "EKANVTNLLIANLAFSDFLMCLLCQPLTAVYTIMDYWIFGETLCKMSAFIQCMSVTVSILSLVLVALERH\n",
      "QLIINPTGWKPSISQAYLGIVLIWVIACVLSLPFLANSILENVFHKNHSKALEFLADKVVCTESWPLAHH\n",
      "RTIYTTFLLLFQYCLPLGFILVCYARIYRCLQRQGRVFHKGTYSLRAGHMKQVNVVLVVMVVAFAVLWLP\n",
      "LHVFNSLEDWHHEAIPICHGNLIFLVCHLLAMASTCVNPFIYGFLNTNFKKEIKALVLTCQQSAPLEESE\n",
      "HLPLSTVHTEVSKGSLRLSGRSNPI\n",
      "\n",
      ">NP_000858.3 5-hydroxytryptamine receptor 2B isoform 1 [Homo sapiens]\n",
      "MALSYRVSELQSTIPEHILQSTFVHVISSNWSGLQTESIPEEMKQIVEEQGNKLHWAALLILMVIIPTIG\n",
      "GNTLVILAVSLEKKLQYATNYFLMSLAVADLLVGLFVMPIALLTIMFEAMWPLPLVLCPAWLFLDVLFST\n",
      "ASIMHLCAISVDRYIAIKKPIQANQYNSRATAFIKITVVWLISIGIAIPVPIKGIETDVDNPNNITCVLT\n",
      "KERFGDFMLFGSLAAFFTPLAIMIVTYFLTIHALQKKAYLVKNKPPQRLTWLTVSTVFQRDETPCSSPEK\n",
      "VAMLDGSRKDKALPNSGDETLMRRTSTIGKKSVQTISNEQRASKVLGIVFFLFLLMWCPFFITNITLVLC\n",
      "DSCNQTTLQMLLEIFVWIGYVSSGVNPLVYTLFNKTFRDAFGRYITCNYRATKSVKTLRKRSSKIYFRNP\n",
      "MAENSKFFKKHGIRNGINPAMYQSPMRLRSSTIQSSSIILLDTLLLTENEGDKTEEQVSYV\n",
      "\n",
      ">NP_001034674.1 prostaglandin F2-alpha receptor isoform b precursor [Homo sapiens]\n",
      "MSMNNSKQLVSPAAALLSNTTCQTENRLSVFFSVIFMTVGILSNSLAIAILMKAYQRFRQKSKASFLLLA\n",
      "SGLVITDFFGHLINGAIAVFVYASDKEWIRFDQSNVLCSIFGICMVFSGLCPLLLGSVMAIERCIGVTKP\n",
      "IFHSTKITSKHVKMMLSGVCLFAVFIALLPILGHRDYKIQASRTWCFYNTEDIKDWEDRFYLLLFSFLGL\n",
      "LALGVSLLCNAITGITLLRVKFKSQQHRQGRSHHLEMVIQLLAIMCVSCICWSPFLGYRIILNGKEKYKV\n",
      "YEEQSDFLHRLQWPTLE\n",
      "\n",
      ">NP_001004723.1 olfactory receptor 4N2 [Homo sapiens]\n",
      "MESENRTVIREFILLGLTQSQDIQLLVFVLVLIFYFIILPGNFLIIFTIKSDPGLTAPLYFFLGNLAFLD\n",
      "ASYSFIVAPRMLVDFLSAKKIISYRGCITQLFFLHFLGGGEGLLLVVMAFDRYIAICRPLHYPTVMNPRT\n",
      "CYAMMLALWLGGFVHSIIQVVLILRLPFCGPNQLDNFFCDVPQVIKLACTDTFVVELLMVFNSGLMTLLC\n",
      "FLGLLASYAVILCRIRGSSSEAKNKAMSTCITHIIVIFFMFGPGIFIYTRPFRAFPADKVVSLFHTVIFP\n",
      "LLNPVIYTLRNQEVKASMKKVFNKHIA\n",
      "\n",
      ">NP_068774.1 guanine nucleotide-binding protein G(T) subunit gamma-T1 precursor [Homo sapiens]\n",
      "MPVINIEDLTEKDKLKMEVDQLKKEVTLERMLVSKCCEEVRDYVEERSGEDPLVKGIPEDKNPFKELKGG\n",
      "CVIS\n",
      "\n",
      ">NP_057726.4 spectrin beta chain, non-erythrocytic 5 [Homo sapiens]\n",
      "MAGQPHSPRELLGAAGHRSRRPSTELRVPPSPSLTMDSQYETGHIRKLQARHMQMQEKTFTKWINNVFQC\n",
      "GQAGIKIRNLYTELADGIHLLRLLELISGEALPPPSRGRLRVHFLENSSRALAFLRAKVPVPLIGPENIV\n",
      "DGDQTLILGLIWVIILRFQISHISLDKEEFGASAALLSTKEALLVWCQRKTASYTNVNITDFSRSWSDGL\n",
      "GFNALIHAHRPDLLDYGSLRPDRPLHNLAFAFLVAEQELGIAQLLDPEDVAAAQPDERSIMTYVSLYYHY\n",
      "CSRLHQGQTVQRRLTKILLQLQETELLQTQYEQLVADLLRWIAEKQMQLEARDFPDSLPAMRQLLAAFTI\n",
      "FRTQEKPPRLQQRGAAEALLFRLQTALQAQNRRPFLPHEGLGLAELSQCWAGLEWAEAARSQALQQRLLQ\n",
      "LQRLETLARRFQHKAALRESFLKDAEQVLDQARAPPASLATVEAAVQRLGMLEAGILPQEGRFQALAEIA\n",
      "DILRQEQYHSWADVARRQEEVTVRWQRLLQHLQGQRKQVADMQAVLSLLQEVEAASHQLEELQEPARSTA\n",
      "CGQQLAEVVELLQRHDLLEAQVSAHGAHVSHLAQQTAELDSSLGTSVEVLQAKARTLAQLQQSLVALVRA\n",
      "RRALLEQTLQRAEFLRNCEEEEAWLKECGQRVGNAALGRDLSQIAGALQKHKALEAEVHRHQAVCVDLVR\n",
      "RGRDLSARRPPTQPDPGERAEAVQGGWQLLQTRVVGRGARLQTALLVLQYFADAAEAASWLRERRSSLER\n",
      "ASCGQDQAAAETLLRRHVRLERVLRAFAAELRRLEEQGRAASARASLFTVNSALSPPGESLRNPGPWSEA\n",
      "SCHPGPGDAWKMALPAEPDPDFDPNTILQTQDHLSQDYESLRALAQLRRARLEEAMALFGFCSSCGELQL\n",
      "WLEKQTVLLQRVQPQADTLEVMQLKYENFLTALAVGKGLWAEVSSSAEQLRQRYPGNSTQIQRQQEELSQ\n",
      "RWGQLEALKREKAVQLAHSVEVCSFLQECGPTQVQLRDVLLQLEALQPGSSEDTCHALQLAQKKTLVLER\n",
      "RVHFLQSVVVKVEEPGYAESQPLQGQVETLQGLLKQVQEQVAQRARRQAETQARQSFLQESQQLLLWAES\n",
      "VQAQLRSKEVSVDVASAQRLLREHQDLLEEIHLWQERLQQLDAQSQPMAALDCPDSQEVPNTLRVLGQQG\n",
      "QELKVLWEQRQQWLQEGLELQKFGREVDGFTATCANHQAWLHLDNLGEDVREALSLLQQHREFGRLLSTL\n",
      "GPRAEALRAHGEKLVQSQHPAAHTVREQLQSIQAQWTRLQGRSEQRRRQLLASLQLQEWKQDVAELMQWM\n",
      "EEKGLMAAHEPSGARRNILQTLKRHEAAESELLATRRHVEALQQVGRELLSRRPCGQEDIQTRLQGLRSK\n",
      "WEALNRKMTERGDELQQAGQQEQLLRQLQDAKEQLEQLEGALQSSETGQDLRSSQRLQKRHQQLESESRT\n",
      "LAAKMAALASMAHGMAASPAILEETQKHLRRLELLQGHLAIRGLQLQASVELHQFCHLSNMELSWVAEHM\n",
      "PHGSPTSYTECLNGAQSLHRKHKELQVEVKAHQGQVQRVLSSGRSLAASGHPQAQHIVEQCQELEGHWAE\n",
      "LERACEARAQCLQQAVTFQQYFLDVSELEGWVEEKRPLVSSRDYGRDEAATLRLINKHQALQEELAIYWS\n",
      "SMEELDQTAQTLTGPEVPEQQRVVQERLREQLRALQELAATRDRELEGTLRLHEFLREAEDLQGWLASQK\n",
      "QAAKGGESLGEDPEHALHLCTKFAKFQHQVEMGSQRVAACRLLAESLLERGHSAGPMVRQRQQDLQTAWS\n",
      "ELWELTQARGHALRDTETTLRVHRDLLEVLTQVQEKATSLPNNVARDLCGLEAQLRSHQGLERELVGTER\n",
      "QLQELLETAGRVQKLCPGPQAHAVQQRQQAVTQAWAVLQRRMEQRRAQLERARLLARFRTAVRDYASWAA\n",
      "RVRQDLQVEESSQEPSSGPLKLSAHQWLRAELEAREKLWQQATQLGQQALLAAGTPTKEVQEELRALQDQ\n",
      "RDQVYQTWARKQERLQAEQQEQLFLRECGRLEEILAAQEVSLKTSALGSSVEEVEQLIRKHEVFLKVLTA\n",
      "QDKKEAALRERLKTLRRPRVRDRLPILLQRRMRVKELAESRGHALHASLLMASFTQAATQAEDWIQAWAQ\n",
      "QLKEPVPPGDLRDKLKPLLKHQAFEAEVQAHEEVMTSVAKKGEALLAQSHPRAGEVSQRLQGLRKHWEDL\n",
      "RQAMALRGQELEDRRNFLEFLQRVDLAEAWIQEKEVKMNVGDLGQDLEHCLQLRRRLREFRGNSAGDTVG\n",
      "DACIRSISDLSLQLKNRDPEEVKIICQRRSQLNNRWASFHGNLLRYQQQLEGALEIHVLSRELDNVTKRI\n",
      "QEKEALIQALDCGKDLESVQRLLRKHEELEREVHPIQAQVESLEREVGRLCQRSPEAAHGLRHRQQEVAE\n",
      "SWWQLRSRAQKRREALDALHQAQKLQAMLQELLVSAQRLRAQMDTSPAPRSPVEARRMLEEHQECKAELD\n",
      "SWTDSISLARSTGQQLLTAGHPFSSDIRQVLAGLEQELSSLEGAWQEHQLQLQQALELQLFLSSVEKMER\n",
      "WLCSKEDSLASEGLWDPLAPMEPLLWKHKMLEWDLEVQAGKISALEATARGLHQGGHPEAQSALGRCQAM\n",
      "LLRKEALFRQAGTRRHRLEELRQLQAFLQDSQEVAAWLREKNLVALEEGLLDTAMLPAQLQKQQNFQAEL\n",
      "DASMHQQQELQREGQRLLQGGHPASEAIQERLEELGALWGELQDNSQKKVAKLQKACEALRLRRSMEELE\n",
      "NWLEPIEVELRAPTVGQALPGVGELLGTQRELEAAVDKKARQAEALLGQAQAFVREGHCLAQDVEEQARR\n",
      "LLQRFKSLREPLQERRTALEARSLLLKFFRDADEEMAWVQEKLPLAAAQDYGQSLSAVRHLQEQHQNLES\n",
      "EMSSHEALTRVVLGTGYKLVQAGHFAAHEVAARVQQLEKAMAHLRAEAARRRLLLQQAQEAQQFLTELLE\n",
      "AGSWLAERGHVLDSEDMGHSAEATQALLRRLEATKRDLEAFSPRIERLQQTAALLESRKNPESPKVLAQL\n",
      "QAVREAHAELLRRAEARGHGLQEQLQLHQLERETLLLDAWLTTKAATAESQDYGQDLEGVKVLEEKFDAF\n",
      "RKEVQSLGQAKVYALRKLAGTLERGAPRRYPHIQAQRSRIEAAWERLDQAIKARTENLAAAHEVHSFQQA\n",
      "AAELQGRMQEKTALMKGEDGGHSLSSVRTLQQQHRRLERELEAMEKEVARLQTEACRLGQLHPAAPGGLA\n",
      "KVQEAWATLQAKAQERGQWLAQAAQGHAFLGRCQELLAWAQERQELASSEELAEDVAGAEQLLGQHEELG\n",
      "QEIRECRLQAQDLRQEGQQLVDNSHFMSAEVTECLQELEGRLQELEEAWALRWQRCAESWGLQKLRQRLE\n",
      "QAEAWLACWEGLLLKPDYGHSVSDVELLLHRHQDLEKLLAAQEEKFAQMQKTEMEQELLLQPQELKPGRA\n",
      "GSSLTSFQWRPSGHQGLGAQLAETRDPQDAKGTPTMEGSLEFKQHLLPGGRQPSSSSWDSCRGNLQGSSL\n",
      "SLFLDERMAAEKVASIALLDLTGARCERLRGRHGRKHTFSLRLTSGAEILFAAPSEEQAESWWRALGSTA\n",
      "AQSLSPKLKAKPVSSLNECTTKDARPGCLLRSDP\n",
      "\n",
      ">NP_997253.2 probable G-protein coupled receptor 153 [Homo sapiens]\n",
      "MSDERRLPGSAVGWLVCGGLSLLANAWGILSVGAKQKKWKPLEFLLCTLAATHMLNVAVPIATYSVVQLR\n",
      "RQRPDFEWNEGLCKVFVSTFYTLTLATCFSVTSLSYHRMWMVCWPVNYRLSNAKKQAVHTVMGIWMVSFI\n",
      "LSALPAVGWHDTSERFYTHGCRFIVAEIGLGFGVCFLLLVGGSVAMGVICTAIALFQTLAVQVGRQADRR\n",
      "AFTVPTIVVEDAQGKRRSSIDGSEPAKTSLQTTGLVTTIVFIYDCLMGFPVLVVSFSSLRADASAPWMAL\n",
      "CVLWCSVAQALLLPVFLWACDRYRADLKAVREKCMALMANDEESDDETSLEGGISPDLVLERSLDYGYGG\n",
      "DFVALDRMAKYEISALEGGLPQLYPLRPLQEDKMQYLQVPPTRRFSHDDADVWAAVPLPAFLPRWGSGED\n",
      "LAALAHLVLPAGPERRRASLLAFAEDAPPSRARRRSAESLLSLRPSALDSGPRGARDSPPGSPRRRPGPG\n",
      "PRSASASLLPDAFALTAFECEPQALRRPPGPFPAAPAAPDGADPGEAPTPPSSAQRSPGPRPSAHSHAGS\n",
      "LRPGLSASWGEPGGLRAAGGGGSTSSFLSSPSESSGYATLHSDSLGSAS\n",
      "\n",
      ">NP_002089.4 guanylyl cyclase-activating protein 2 [Homo sapiens]\n",
      "MGQEFSWEEAEAAGEIDVAELQEWYKKFVMECPSGTLFMHEFKRFFKVTDDEEASQYVEGMFRAFDKNGD\n",
      "NTIDFLEYVAALNLVLRGTLEHKLKWTFKIYDKDGNGCIDRLELLNIVEGIYQLKKACRRELQTEQGQLL\n",
      "TPEEVVDRIFLLVDENGDGQLSLNEFVEGARRDKWVMKMLQMDMNPSSWLAQQRRKSAMF\n",
      "\n",
      ">NP_000532.2 S-arrestin [Homo sapiens]\n",
      "MAASGKTSKSEPNHVIFKKISRDKSVTIYLGNRDYIDHVSQVQPVDGVVLVDPDLVKGKKVYVTLTCAFR\n",
      "YGQEDIDVIGLTFRRDLYFSRVQVYPPVGAASTPTKLQESLLKKLGSNTYPFLLTFPDYLPCSVMLQPAP\n",
      "QDSGKSCGVDFEVKAFATDSTDAEEDKIPKKSSVRLLIRKVQHAPLEMGPQPRAEAAWQFFMSDKPLHLA\n",
      "VSLNKEIYFHGEPIPVTVTVTNNTEKTVKKIKAFVEQVANVVLYSSDYYVKPVAMEEAQEKVPPNSTLTK\n",
      "TLTLLPLLANNRERRGIALDGKIKHEDTNLASSTIIKEGIDRTVLGILVSYQIKVKLTVSGFLGELTSSE\n",
      "VATEVPFRLMHPQPEDPAKESYQDANLVFEEFARHNLKDAGEAEEGKRDKNDVDE\n",
      "\n",
      ">NP_775904.2 transmembrane protein 145 isoform 2 precursor [Homo sapiens]\n",
      "MEPLRAPALRRLLPPLLLLLLSLPPRARAKYVRGNLSSKEDWVFLTRFCFLSDYGRLDFRFRYPEAKCCQ\n",
      "NILLYFDDPSQWPAVYKAGDKDCLAKESVIRPENNQVINLTTQYAWSGCQVVSEEGTRYLSCSSGRSFRS\n",
      "GDGLQLEYEMVLTNGKSFWTRHFSADEFGILETDVTFLLIFILIFFLSCYFGYLLKGRQLLHTTYKMFMA\n",
      "AAGVEVLSLLFFCIYWGQYATDGIGNESVKILAKLLFSSSFLIFLLMLILLGKGFTVTRGRISHAGSVKL\n",
      "SVYMTLYTLTHVVLLIYEAEFFDPGQVLYTYESPAGYGLIGLQVAAYVWFCYAVLVSLRHFPEKQPFYVP\n",
      "FFAAYTLWFFAVPVMALIANFGIPKWAREKIVNGIQLGIHLYAHGVFLIMTRPSAANKNFPYHVRTSQIA\n",
      "SAGVPGPGGSQSADKAFPQHVYGNVTFISDSVPNFTELFSIPPPATSPLPRAAPDSGLPLFRDLRPPGPL\n",
      "RDL\n",
      "\n",
      ">NP_000946.2 prostaglandin E2 receptor EP1 subtype [Homo sapiens]\n",
      "MSPCGPLNLSLAGEATTCAAPWVPNTSAVPPSGASPALPIFSMTLGAVSNLLALALLAQAAGRLRRRRSA\n",
      "ATFLLFVASLLATDLAGHVIPGALVLRLYTAGRAPAGGACHFLGGCMVFFGLCPLLLGCGMAVERCVGVT\n",
      "RPLLHAARVSVARARLALAAVAAVALAVALLPLARVGRYELQYPGTWCFIGLGPPGGWRQALLAGLFASL\n",
      "GLVALLAALVCNTLSGLALLRARWRRRSRRPPPASGPDSRRRWGAHGPRSASASSASSIASASTFFGGSR\n",
      "SSGSARRARAHDVEMVGQLVGIMVVSCICWSPMLVLVALAVGGWSSTSLQRPLFLAVRLASWNQILDPWV\n",
      "YILLRQAVLRQLLRLLPPRAGAKGGPAGLGLTPSAWEASSLRSSRHSGLSHF\n",
      "\n",
      ">NP_064707.1 atypical chemokine receptor 3 [Homo sapiens]\n",
      "MDLHLFDYSEPGNFSDISWPCNSSDCIVVDTVMCPNMPNKSVLLYTLSFIYIFIFVIGMIANSVVVWVNI\n",
      "QAKTTGYDTHCYILNLAIADLWVVLTIPVWVVSLVQHNQWPMGELTCKVTHLIFSINLFGSIFFLTCMSV\n",
      "DRYLSITYFTNTPSSRKKMVRRVVCILVWLLAFCVSLPDTYYLKTVTSASNNETYCRSFYPEHSIKEWLI\n",
      "GMELVSVVLGFAVPFSIIAVFYFLLARAISASSDQEKHSSRKIIFSYVVVFLVCWLPYHVAVLLDIFSIL\n",
      "HYIPFTCRLEHALFTALHVTQCLSLVHCCVNPVLYSFINRNYRYELMKAFIFKYSAKTGLTKLIDASRVS\n",
      "ETEYSALEQSTK\n",
      "\n",
      ">NP_006230.2 serine/threonine-protein phosphatase with EF-hands 2 [Homo sapiens]\n",
      "MGSGTSTQHHFAFQNAERAFKAAALIQRWYRRYVARLEMRRRCTWSIFQSIEYAGQQDQVKLHDFFSYLM\n",
      "DHFIPSSHNDRDFLTRIFTEDRFAQDSEMKKCSDYESIEVPDSYTGPRLSFPLLPDHATALVEAFRLKQQ\n",
      "LHARYVLNLLYETKKHLVQLPNINRVSTCYSEEITVCGDLHGQLDDLIFIFYKNGLPSPERSYVFNGDFV\n",
      "DRGKDSVEILMILFAFMLVYPKEFHLNRGNHEDHMVNLRYGFTKEVMNKYKVHGKEILRTLQDVFCWLPL\n",
      "ATLIDEKVLILHGGVSDITDLELLDKIERSKIVSTMRCKTRQKSEKQMEEKRRANQKSSAQGPIPWFLPE\n",
      "SRSLPSSPLRLGSYKAQKTSRSSSIPCSGSLDGRELSRQVRSSVELELERCRQQAGLLVTGEKEEPSRSA\n",
      "SEADSEAGELRKPTQEEWRQVVDILWSDPMAQEGCKANTIRGGGCYFGPDVTQQLLQKYNMQFLIRSHEC\n",
      "KPEGYEFCHNRKVLTIFSASNYYEVGSNRGAYVKLGPALTPHIVQYQANKVTHTLTMRQRISRVEESALR\n",
      "ALREKLFAHSSDLLSEFKKHDADKVGLITLSDWAAAVESVLHLGLPWRMLRPQLVNSSADNMLEYKSWLK\n",
      "NLAKEQLSRENIQSSLLETLYRNRSNLETIFRIIDSDHSGFISLDEFRQTWKLFSSHMNIDITDDCICDL\n",
      "ARSIDFNKDGHIDINEFLEAFRLVEKSCPEGDASECPQATNAKDSGCSSPGAH\n",
      "\n",
      ">NP_054798.1 Krueppel-like factor 15 [Homo sapiens]\n",
      "MVDHLLPVDENFSSPKCPVGYLGDRLVGRRAYHMLPSPVSEDDSDASSPCSCSSPDSQALCSCYGGGLGT\n",
      "ESQDSILDFLLSQATLGSGGGSGSSIGASSGPVAWGPWRRAAAPVKGEHFCLPEFPLGDPDDVPRPFQPT\n",
      "LEEIEEFLEENMEPGVKEVPEGNSKDLDACSQLSAGPHKSHLHPGSSGRERCSPPPGGASAGGAQGPGGG\n",
      "PTPDGPIPVLLQIQPVPVKQESGTGPASPGQAPENVKVAQLLVNIQGQTFALVPQVVPSSNLNLPSKFVR\n",
      "IAPVPIAAKPVGSGPLGPGPAGLLMGQKFPKNPAAELIKMHKCTFPGCSKMYTKSSHLKAHLRRHTGEKP\n",
      "FACTWPGCGWRFSRSDELSRHRRSHSGVKPYQCPVCEKKFARSDHLSKHIKVHRFPRSSRSVRSVN\n",
      "\n",
      ">NP_001318005.1 probable G-protein coupled receptor 142 isoform b [Homo sapiens]\n",
      "MLTGSCGDPQKKPQVTQDSGPQSMGLEGRETAGQPRVTLLPTPHVSGLSQEFESHWPEIAERSPCVAGVI\n",
      "PVIYYSVLLGLGLPVSLLTAVALARLATRTRRPSYYYLLALTASDIIIQVVIVFAGFLLQGAVLARQVPQ\n",
      "AVVRTANILEFAANHASVWIAILLTVDRYTALCHPLHHRAASSPGRTRRAIAAVLSAALLTGIPFYWWLD\n",
      "MWRDTDSPRTLDEVLKWAHCLTVYFIPCGVFLVTNSAIIHRLRRRGRSGLQPRVGKSTAILLGITTLFTL\n",
      "LWAPRVFVMLYHMYVAPVHRDWRVHLALDVANMVAMLHTAANFGLYCFVSKTFRATVRQVIHDAYLPCTL\n",
      "ASQPEGMAAKPVMEPPGLPTGAEV\n",
      "\n",
      ">NP_001983.2 proteinase-activated receptor 1 isoform 1 precursor [Homo sapiens]\n",
      "MGPRRLLLVAACFSLCGPLLSARTRARRPESKATNATLDPRSFLLRNPNDKYEPFWEDEEKNESGLTEYR\n",
      "LVSINKSSPLQKQLPAFISEDASGYLTSSWLTLFVPSVYTGVFVVSLPLNIMAIVVFILKMKVKKPAVVY\n",
      "MLHLATADVLFVSVLPFKISYYFSGSDWQFGSELCRFVTAAFYCNMYASILLMTVISIDRFLAVVYPMQS\n",
      "LSWRTLGRASFTCLAIWALAIAGVVPLLLKEQTIQVPGLNITTCHDVLNETLLEGYYAYYFSAFSAVFFF\n",
      "VPLIISTVCYVSIIRCLSSSAVANRSKKSRALFLSAAVFCIFIICFGPTNVLLIAHYSFLSHTSTTEAAY\n",
      "FAYLLCVCVSSISCCIDPLIYYYASSECQRYVYSILCCKESSDPSSYNSSGQLMASKMDTCSSNLNNSIY\n",
      "KKLLT\n",
      "\n",
      "\n"
     ]
    }
   ],
   "source": [
    "handle = Entrez.esearch(db=\"protein\", term=\"rhodopsin AND Homo sapiens[orgn]\")\n",
    "record = Entrez.read(handle)\n",
    "print(Entrez.efetch(db=\"protein\", id=record[\"IdList\"], retmode=\"text\", rettype=\"fasta\").read())"
   ]
  },
  {
   "cell_type": "markdown",
   "metadata": {},
   "source": [
    "Save downloaded sequences into a fasta file"
   ]
  },
  {
   "cell_type": "code",
   "execution_count": 12,
   "metadata": {
    "ExecuteTime": {
     "end_time": "2022-03-31T08:32:44.013984Z",
     "start_time": "2022-03-31T08:32:21.610026Z"
    }
   },
   "outputs": [],
   "source": [
    "with open(\"results/rhodopsin.fasta\", \"w\") as ouf:\n",
    "    for rec in record[\"IdList\"]:\n",
    "        lne = Entrez.efetch(db=\"protein\", id=rec, retmode=\"text\", rettype=\"fasta\").read()\n",
    "        ouf.write(lne)"
   ]
  },
  {
   "cell_type": "code",
   "execution_count": 13,
   "metadata": {
    "ExecuteTime": {
     "end_time": "2022-03-31T08:32:44.132881Z",
     "start_time": "2022-03-31T08:32:44.016185Z"
    }
   },
   "outputs": [
    {
     "name": "stdout",
     "output_type": "stream",
     "text": [
      ">NP_001265723.1 neuropeptide Y receptor type 4 [Homo sapiens]\r\n",
      "MNTSHLLALLLPKSPQGENRSKPLGTPYNFSEHCQDSVDVMVFIVTSYSIETVVGVLGNLCLMCVTVRQK\r\n",
      "EKANVTNLLIANLAFSDFLMCLLCQPLTAVYTIMDYWIFGETLCKMSAFIQCMSVTVSILSLVLVALERH\r\n",
      "QLIINPTGWKPSISQAYLGIVLIWVIACVLSLPFLANSILENVFHKNHSKALEFLADKVVCTESWPLAHH\r\n",
      "RTIYTTFLLLFQYCLPLGFILVCYARIYRCLQRQGRVFHKGTYSLRAGHMKQVNVVLVVMVVAFAVLWLP\r\n",
      "LHVFNSLEDWHHEAIPICHGNLIFLVCHLLAMASTCVNPFIYGFLNTNFKKEIKALVLTCQQSAPLEESE\r\n",
      "HLPLSTVHTEVSKGSLRLSGRSNPI\r\n",
      "\r\n",
      ">NP_001316355.1 guanine nucleotide-binding protein G(T) subunit gamma-T1 precursor [Homo sapiens]\r\n",
      "MPVINIEDLTEKDKLKMEVDQLKKEVTLERMLVSKCCEEVRDYVEERSGEDPLVKGIPEDKNPFKELKGG\r\n"
     ]
    }
   ],
   "source": [
    "! head -10 results/rhodopsin.fasta"
   ]
  },
  {
   "cell_type": "markdown",
   "metadata": {},
   "source": [
    "### Download protein by its nucleotide UID"
   ]
  },
  {
   "cell_type": "code",
   "execution_count": 14,
   "metadata": {
    "ExecuteTime": {
     "end_time": "2022-03-31T08:32:45.657687Z",
     "start_time": "2022-03-31T08:32:44.134280Z"
    }
   },
   "outputs": [
    {
     "data": {
      "text/plain": [
       "[{'ERROR': [], 'LinkSetDb': [{'Link': [{'Id': '2068639613'}], 'DbTo': 'protein', 'LinkName': 'nuccore_protein'}], 'LinkSetDbHistory': [], 'DbFrom': 'nuccore', 'IdList': ['2065188392']}]"
      ]
     },
     "execution_count": 14,
     "metadata": {},
     "output_type": "execute_result"
    }
   ],
   "source": [
    "lhandle = Entrez.elink(dbfrom=\"nucleotide\", db=\"protein\", id=\"2065188392\") ##pubmed default\n",
    "lrecord = Entrez.read(lhandle)\n",
    "lrecord"
   ]
  },
  {
   "cell_type": "code",
   "execution_count": 15,
   "metadata": {
    "ExecuteTime": {
     "end_time": "2022-03-31T08:32:46.573477Z",
     "start_time": "2022-03-31T08:32:45.661954Z"
    }
   },
   "outputs": [],
   "source": [
    "prothandle = lrecord[0][\"LinkSetDb\"][0]['Link'][0]['Id']\n",
    "rrecord = Entrez.efetch(db=\"protein\", id=prothandle, rettype=\"fasta\", retmode=\"text\")\n",
    "with open (\"results/prot_from_nt.fasta\", \"w\") as ouf:\n",
    "    ouf.write(rrecord.read())"
   ]
  },
  {
   "cell_type": "code",
   "execution_count": 16,
   "metadata": {
    "ExecuteTime": {
     "end_time": "2022-03-31T08:32:46.696453Z",
     "start_time": "2022-03-31T08:32:46.576717Z"
    }
   },
   "outputs": [
    {
     "name": "stdout",
     "output_type": "stream",
     "text": [
      ">XP_042223242.1 crustacyanin-A2 subunit-like [Homarus americanus]\r\n",
      "MGVWYEIQAQPNIFQSIKSCLASSYKRVKTEIHVLSEGLDSSGASTTTKSILKIVDPQNPAHMVTDFVPG\r\n",
      "VEPPFDIVDTDYKTFSCAHSCLSIVGIKTEFVFIYSRNRTLRSNSTQHCLSIFEVSIIGIISFYTNANNY\r\n",
      "\r\n"
     ]
    }
   ],
   "source": [
    "! cat results/prot_from_nt.fasta"
   ]
  },
  {
   "cell_type": "markdown",
   "metadata": {},
   "source": [
    "### Download all sequences by PMID"
   ]
  },
  {
   "cell_type": "code",
   "execution_count": 17,
   "metadata": {
    "ExecuteTime": {
     "end_time": "2022-03-31T08:32:47.563342Z",
     "start_time": "2022-03-31T08:32:46.703484Z"
    }
   },
   "outputs": [
    {
     "data": {
      "text/plain": [
       "[{'ERROR': [], 'LinkSetDb': [{'Link': [{'Id': '312146895'}, {'Id': '312146894'}, {'Id': '312146893'}, {'Id': '312146892'}, {'Id': '312146891'}, {'Id': '312146890'}, {'Id': '312146889'}, {'Id': '312146888'}, {'Id': '312146887'}], 'DbTo': 'nuccore', 'LinkName': 'pubmed_nuccore'}], 'LinkSetDbHistory': [], 'DbFrom': 'pubmed', 'IdList': ['20558169']}]"
      ]
     },
     "execution_count": 17,
     "metadata": {},
     "output_type": "execute_result"
    }
   ],
   "source": [
    "lhandle = Entrez.elink(dbfrom=\"pubmed\", db=\"nucleotide\", id=\"20558169\")\n",
    "lrecord = Entrez.read(lhandle)\n",
    "lrecord"
   ]
  },
  {
   "cell_type": "code",
   "execution_count": 18,
   "metadata": {
    "ExecuteTime": {
     "end_time": "2022-03-31T08:32:47.573062Z",
     "start_time": "2022-03-31T08:32:47.565536Z"
    }
   },
   "outputs": [
    {
     "data": {
      "text/plain": [
       "['312146895',\n",
       " '312146894',\n",
       " '312146893',\n",
       " '312146892',\n",
       " '312146891',\n",
       " '312146890',\n",
       " '312146889',\n",
       " '312146888',\n",
       " '312146887']"
      ]
     },
     "execution_count": 18,
     "metadata": {},
     "output_type": "execute_result"
    }
   ],
   "source": [
    "ids = []\n",
    "for el in lrecord[0][\"LinkSetDb\"][0][\"Link\"]:\n",
    "    ids.append(el['Id'])\n",
    "ids"
   ]
  },
  {
   "cell_type": "code",
   "execution_count": 19,
   "metadata": {
    "ExecuteTime": {
     "end_time": "2022-03-31T08:32:48.481345Z",
     "start_time": "2022-03-31T08:32:47.575311Z"
    }
   },
   "outputs": [],
   "source": [
    "rrecord = Entrez.efetch(db=\"nucleotide\", id=ids[:4], rettype=\"fasta\", retmode=\"text\")\n",
    "with open (\"results/py_fasta_pmid.fasta\", \"w\") as ouf:\n",
    "    ouf.write(rrecord.read())"
   ]
  },
  {
   "cell_type": "code",
   "execution_count": 20,
   "metadata": {
    "ExecuteTime": {
     "end_time": "2022-03-31T08:32:48.606219Z",
     "start_time": "2022-03-31T08:32:48.486765Z"
    }
   },
   "outputs": [
    {
     "name": "stdout",
     "output_type": "stream",
     "text": [
      ">HM140499.1 Myospora metanephrops isolate NZ6C small subunit ribosomal RNA gene, partial sequence\r\n",
      "GACGGCTACCAGGTCCAAGGACAGCAGCAGGCGCGAAAATTACCGAAGCCTACAACAGGGCGGTAGTAAT\r\n",
      "GAGACGTGAAAACTAGACACGAATAAAATACGTGTTAGCAACTGGAGGTCAAGTCTGGTGCCAGCATCCG\r\n",
      "CGGTAATACCAGCTCCAGGGGTGTCTATGATGATTGCTGCGATTAAAAGGTCCGTAGTCTTATGTCAGAA\r\n",
      "CCGATGTGTAAGATGCTCGATCTAAGAGCAAAAAGGATTGGTACAGACATACATATATAGTGGTGTGTAT\r\n",
      "ATAGAGATGTTATATTTGTAATGTTGATATGTATATGGTGCAATATATTGAAATGAGGAGCGACCGGGGG\r\n",
      "CTAGATTATCGAGCAACGAGAGGTGAAATTTGATGACTTGCTTGGGAGTAACAGAGGCGAAAGCGCTAGT\r\n",
      "CAAGGGCGAATCCGATGATCAAGGACGTAGGCTGGAGGATCGAACACGATTAGATACCGTAGTAGTTCCA\r\n",
      "GCAGTAAACTATGCCGACGCCGTGGGTTGTTTGACCCGCGGAAGAGAAATCTAGTAGGGCTTTGGGGAGA\r\n",
      "GTACGCGCGCAAGCGATAAATTTAAAGGAAATTGACGGAAGAACACCACAAGGAGTGGAGTGTGCGGCTT\r\n",
      "AATTTGACTCAACGCGGGACAGCTTACCAGGCCCGAGGATTGCACGAGCGAATACGCGATAGATCTGAAA\r\n",
      "GTGGTGCATGGCCGTTATCGACGAATGGAGTGATCTTTTGGTTAAATCCGTCAATTCGTGAGACCCTTTT\r\n",
      "AATTTGATTAATGTCAGTGGTTGATACAGGTATGAAAATACAGGGGGGAAAGGACAAGAACAGGTCAGTG\r\n",
      "ATGCCCTTAGATGGCCTGGGCTGCACGCGCACTACAGTGGTTACTTTAAACTGAAGAGAGGAATAAATGT\r\n",
      "AATCGAGAGGGAATGAGCGCTGCAAGGCCCACAGGAACGAGGAATTGCTAGTAATCGTAGGCTCAGTAAG\r\n",
      "ATACGATGAATGTGTCCCTGTTC\r\n",
      "\r\n",
      ">HM140498.1 Myospora metanephrops isolate NZ6B small subunit ribosomal RNA gene, partial sequence\r\n",
      "GACGGCTACCAGGTCCAAGGACAGCAGCAGGCGCGAAAATTACCGAAGCCTACAACAGGGCGGTAGTAAT\r\n",
      "GAGACGTGAAAACTAGACACGAATAAAATACGTGTTAGCAACTGGAGGTCAAGTCTGGTGCCAGCATCCG\r\n",
      "CGGTAATACCAGCTCCAGGGGTGTCTATGATGATTGCTGCGATTAAAAGGTCCGTAGTCTTATGTCAGAA\r\n",
      "CCGATGTGTAAGATGCTCGATCTAAGAGCAAAAAGGATTGGTACAGACATACATATATAGTGGTGTGTAT\r\n",
      "ATAGAGATGTTATATTTGTAATGTTGATATGTATATGGTGCAATATATTGAAATGAGGAGCGACCGGGGG\r\n",
      "CTAGATTATCGAGCAACGAGAGGTGAAATTTGATGACTTGCTTGGGAGTAACAGAGGCGAAAGCGCTAGT\r\n",
      "CAAGGGCGAATCCGATGATCAAGGACGTAGGCTGGAGGATCGAACACGATTAGATACCGTAGTAGTTCCA\r\n",
      "GCAGTAAACTATGCCGACGCCGTGGGTTGTTTGACCCGCGGAAGAGAAATCTAGTAGGGCTTTGGGGAGA\r\n",
      "GTACGCGCGCAAGCGATAAATTTAAAGGAAATTGACGGAAGAACACCACAAGGAGTGGAGTGTGCGGCTT\r\n",
      "AATTTGACTCAACGCGGGACAGCTTACCAGGCCCGAGGATTGCACGAGCGAATACGCGATAGATCTGAAA\r\n",
      "GTGGTGCATGGCCGTTATCGACGAATGGAGTGATCTTTTGGTTAAATCCGTCAATTCGTGAGACCCTTTT\r\n",
      "AATTTGATTAATGTCAGTGGTTGATACAGGTATGAAAATACAGGGGGGAAAGGACAAGAACAGGTCAGTG\r\n",
      "ATGCCCTTAGATGGCCTGGGCTGCACGCGCACTACAGTGGTTACTTTAAACTGAAGAGAGGAATAAATGT\r\n",
      "AATCGAGAGGGAATGAGCGCTGCAAGGCGCACAGGAACGAGGAATTGCTAGTAATCGTAGGCTCAGTAAG\r\n",
      "ATACGATGAATGTGTCCCTGTTC\r\n",
      "\r\n",
      ">HM140497.1 Myospora metanephrops isolate NZ6A small subunit ribosomal RNA gene, partial sequence\r\n",
      "GACGGCTACCAGGTCCAAGGACAGCAGCAGGCGCGAAAATTACCGAAGCCTACAACAGGGCGGTAGTAAT\r\n",
      "GAGACGTGAAAACTAGACACGAATAAAATACGTGTTAGCAACTGGAGGTCAAGTCTGGTGCCAGCATCCG\r\n",
      "CGGTAATACCAGCTCCAGGGGTGTCTATGATGATTGCTGCGATTAAAAGGTCCGTAGTCTTATGTCAGAA\r\n",
      "CCGATGTGTAAGATGCTCGATCTAAGAGCAAAAAGGATTGGTACAGACATACATATATAGTGGTGTGTAT\r\n",
      "ATAGAGATGTTATATTTGTAATGTTGATATGTATATGATGCAATATATTGAAATGAGGAGCGACCGGGGG\r\n",
      "CTAGATTATCGAGCAACGAGAGGTGAAATTTGATGACTTGCTTGGGAGTAACAGAGGCGAAAGCGCTAGT\r\n",
      "CAAGGGCGAATCCGATGATCAAGGACGTAGGCTGGAGGATCGAACACGATTAGATACCGTAGTAGTTCCA\r\n",
      "GCAGTAAACTATGCCGACGCCGTGGGTTGTTTGACTCGCGGAAGAGAAATCTAGTAGGGCTTTGGGGAGA\r\n",
      "GTACGCGCGCAAGCGATAAATTTAAAGGAAATTGACGGAAGAACACCACAAGGAGTGGAGTGTGCGGCTT\r\n",
      "AATTTGACTCAACGCGGGACAGCTTACCAGGCCCGAGGATTGCACGAGCGAATACGCGATAGATCTGAAA\r\n",
      "GTGGTGCATGGCCGTTATCGACGAATGGAGTGATCTTTTGGTTAAATCCGTCAATTCGTGAGACCCTTTT\r\n",
      "AATTTGATTAATGTCAGTGGTTGATACAGGTATGAAAATACAGGGGGGAAAGGACAAGAACAGGTCAGTG\r\n",
      "ATGCCCTTAGATGGCCTGGGCTGCACGCGCACTACAGTGGTTACTTTAAACTGAAGAGAGGAATAAATGT\r\n",
      "AATCGAGAGGGAATGAGCGCTGCAAGGCGCACAGGAACGAGGAATTGCTAGTAATCGTAGGCTCAGTAAG\r\n",
      "ATACGATGAATGTGTCCCTGTTC\r\n",
      "\r\n",
      ">HM140496.1 Myospora metanephrops isolate NZ5D small subunit ribosomal RNA gene, partial sequence\r\n",
      "GACGGCTACCAGGTCCAAGGACAGCAGCAGGCGCGAAAATTACCGAAGCCTACAACAGGGCGGTAGTAAT\r\n",
      "GAGACGTGAAAACTAGACACGAATAAAATACGTGTTAGCAACTGGAGGTCAAGTCTGGTGTCAGCATCCG\r\n",
      "CGGTAATACCAGCTCCAGGGGTGTCTATGATGATTGCTGCGATTAAAAGGTCCGTAGTCTTATGTCAGAA\r\n",
      "CCGATGTGTAAGATGCTCGATCTAAGAGCAAAAAGGATTGGTACAGACATACATATATAGTGGTGTGTAT\r\n",
      "ATAGAGATGTTATATTTGTAATGTTGATATGTATATGGTGCAATATATTGAAATGAGGAGCGACCGGGGG\r\n",
      "CTAGATTATCGAGCAACGAGAGGTGAAATTTGATGACTTGCTTGGGAGTAACAGAGGCGAAAGCGCTAGT\r\n",
      "CAAGGGCGAATCCGATGATCAAGGACGTAGGCTGGAGGATCGAACACGATTAGATACCGTAGTAGTTCCA\r\n",
      "GCAGTAAACTATGCCGACGCCGTGGGTTGTTTGACCCGCGGAAGAGAAATCTAGTAGGGCTTTGGGGAGA\r\n",
      "GTACGCGCGCAAGCGATAAATTTAAAGGAAATTGACGGAAGAACACCACAAGGAGTGGAGTGTGCGGCTT\r\n",
      "AATTTGACTCAACGCGGGACAGCTTACCAGGCCCGAGGATTGTACGAGCGAATACGCGATAGATCTGAAA\r\n",
      "GTGGTGCATGGCCGTTATCGACGAATGGAGTGATCTTTTGGTTAAATCCGTCAATTCGTGAGACCCTTTT\r\n",
      "AATTTGATTAATGTCAGAGGTTGATACAGGTATGAAAATACAGGGGGGAAAGGACAAGAACAGGTCAGTG\r\n",
      "ATGCCCTTAGATGGCCTGGGCTGCACGCGCACTACAGTGGTTACTTTAAACTGAAGAGACGAATAAATGT\r\n",
      "AATCGAGAGGGAATGAGCGCTGCAAGGCGCACAGGAACGAGGAATTGCTAGTAATCGTAGGCTCAGTAAG\r\n",
      "ATACGATGAATGTGTCCCTGTTC\r\n",
      "\r\n"
     ]
    }
   ],
   "source": [
    "! cat results/py_fasta_pmid.fasta"
   ]
  }
 ],
 "metadata": {
  "kernelspec": {
   "display_name": "Python 3 (ipykernel)",
   "language": "python",
   "name": "python3"
  },
  "language_info": {
   "codemirror_mode": {
    "name": "ipython",
    "version": 3
   },
   "file_extension": ".py",
   "mimetype": "text/x-python",
   "name": "python",
   "nbconvert_exporter": "python",
   "pygments_lexer": "ipython3",
   "version": "3.7.6"
  },
  "toc": {
   "base_numbering": 1,
   "nav_menu": {},
   "number_sections": true,
   "sideBar": true,
   "skip_h1_title": false,
   "title_cell": "Table of Contents",
   "title_sidebar": "Contents",
   "toc_cell": false,
   "toc_position": {},
   "toc_section_display": true,
   "toc_window_display": false
  },
  "varInspector": {
   "cols": {
    "lenName": 16,
    "lenType": 16,
    "lenVar": 40
   },
   "kernels_config": {
    "python": {
     "delete_cmd_postfix": "",
     "delete_cmd_prefix": "del ",
     "library": "var_list.py",
     "varRefreshCmd": "print(var_dic_list())"
    },
    "r": {
     "delete_cmd_postfix": ") ",
     "delete_cmd_prefix": "rm(",
     "library": "var_list.r",
     "varRefreshCmd": "cat(var_dic_list()) "
    }
   },
   "types_to_exclude": [
    "module",
    "function",
    "builtin_function_or_method",
    "instance",
    "_Feature"
   ],
   "window_display": false
  }
 },
 "nbformat": 4,
 "nbformat_minor": 4
}
